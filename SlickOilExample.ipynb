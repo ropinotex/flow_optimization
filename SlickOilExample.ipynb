{
 "cells": [
  {
   "cell_type": "code",
   "execution_count": 16,
   "id": "e95e688d",
   "metadata": {},
   "outputs": [],
   "source": [
    "%load_ext autoreload\n",
    "%autoreload 2"
   ]
  },
  {
   "cell_type": "code",
   "execution_count": 18,
   "id": "5f099db9",
   "metadata": {},
   "outputs": [],
   "source": [
    "from slickoil import optimal_flows_node, optimal_flows_arc"
   ]
  },
  {
   "cell_type": "code",
   "execution_count": 19,
   "id": "0dc3ee84",
   "metadata": {},
   "outputs": [],
   "source": [
    "# Data\n",
    "# Press ctrl + enter\n",
    "\n",
    "wells_unit_production_cost = {'1': 3,\n",
    "                              '2': 12,\n",
    "                              '3': 4,\n",
    "                              '4': 6,\n",
    "                              '5': 10,\n",
    "                              '6': 2.5}\n",
    "\n",
    "wells_capacities = {'1': 40,\n",
    "                    '2': 50,\n",
    "                    '3': 40,\n",
    "                    '4': 100,\n",
    "                    '5': 100,\n",
    "                    '6': 100}\n",
    "\n",
    "refineries_unit_production_cost = {'A': 4,\n",
    "                                   'B': 2,\n",
    "                                   'C': 6,\n",
    "                                   'D': 1,\n",
    "                                   'E': 8}\n",
    "\n",
    "refineries_capacities = {'A': 100,\n",
    "                         'B': 40,\n",
    "                         'C': 80,\n",
    "                         'D': 100,\n",
    "                         'E': 80}\n",
    "\n",
    "allowed_routes = {('1', 'A'), ('1', 'B'), ('2', 'B'), ('2', 'C'), ('2', 'D'),\n",
    "                  ('3', 'B'), ('3', 'C'), ('3', 'E'), ('4', 'A'), ('4', 'E'),\n",
    "                  ('5', 'D'), ('5', 'E'), ('6', 'C'), ('6', 'E')}\n",
    "\n",
    "demands = {'C1': 100}"
   ]
  },
  {
   "cell_type": "code",
   "execution_count": 42,
   "id": "bcbb6f1e",
   "metadata": {},
   "outputs": [
    {
     "name": "stdout",
     "output_type": "stream",
     "text": [
      "Optimization Status  Optimal\n",
      "690.0\n",
      "Flows\n",
      "1 --> A  = 40.0\n",
      "3 --> B  = 40.0\n",
      "6 --> C  = 20.0\n"
     ]
    }
   ],
   "source": [
    "optimal_flows_node(demands=demands,\n",
    "                   wells_unit_production_cost=wells_unit_production_cost,\n",
    "                   wells_capacities=wells_capacities,\n",
    "                   refineries_unit_production_cost=refineries_unit_production_cost,\n",
    "                   refineries_capacities=refineries_capacities,\n",
    "                   allowed_routes=allowed_routes)"
   ]
  },
  {
   "cell_type": "code",
   "execution_count": 46,
   "id": "f08124d2",
   "metadata": {},
   "outputs": [
    {
     "name": "stdout",
     "output_type": "stream",
     "text": [
      "Optimization Status  Optimal\n",
      "840.0\n",
      "Flows\n",
      "3 --> B  = 40.0\n",
      "4 --> A  = 60.0\n",
      "--------------------\n",
      "BLOCKED WELLS: ['1']\n",
      "BLOCKED REFINERIES: ['C']\n"
     ]
    }
   ],
   "source": [
    "optimal_flows_arc(demands=demands,\n",
    "                  wells_unit_production_cost=wells_unit_production_cost,\n",
    "                  wells_capacities=wells_capacities,\n",
    "                  refineries_unit_production_cost=refineries_unit_production_cost,\n",
    "                  refineries_capacities=refineries_capacities,\n",
    "                  allowed_routes=allowed_routes,\n",
    "                  blocked_wells=['1'],\n",
    "                  blocked_refineries=['C'])"
   ]
  },
  {
   "cell_type": "code",
   "execution_count": 45,
   "id": "6d2ed27a",
   "metadata": {},
   "outputs": [
    {
     "name": "stdout",
     "output_type": "stream",
     "text": [
      "Optimization Status  Optimal\n",
      "690.0\n",
      "Flows\n",
      "1 --> A  = 40.0\n",
      "3 --> B  = 40.0\n",
      "6 --> C  = 20.0\n",
      "--------------------\n"
     ]
    }
   ],
   "source": [
    "optimal_flows_arc(demands=demands,\n",
    "                  wells_unit_production_cost=wells_unit_production_cost,\n",
    "                  wells_capacities=wells_capacities,\n",
    "                  refineries_unit_production_cost=refineries_unit_production_cost,\n",
    "                  refineries_capacities=refineries_capacities,\n",
    "                  allowed_routes=allowed_routes)"
   ]
  },
  {
   "cell_type": "code",
   "execution_count": null,
   "id": "54c59569",
   "metadata": {},
   "outputs": [],
   "source": []
  }
 ],
 "metadata": {
  "kernelspec": {
   "display_name": "Python 3 (ipykernel)",
   "language": "python",
   "name": "python3"
  },
  "language_info": {
   "codemirror_mode": {
    "name": "ipython",
    "version": 3
   },
   "file_extension": ".py",
   "mimetype": "text/x-python",
   "name": "python",
   "nbconvert_exporter": "python",
   "pygments_lexer": "ipython3",
   "version": "3.8.10"
  }
 },
 "nbformat": 4,
 "nbformat_minor": 5
}
